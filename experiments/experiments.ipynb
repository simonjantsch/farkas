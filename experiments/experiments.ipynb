{
 "cells": [
  {
   "cell_type": "code",
   "execution_count": null,
   "metadata": {},
   "outputs": [],
   "source": [
    "import sys\n",
    "sys.path.insert(1, '../')\n",
    "\n",
    "from plotting import *\n",
    "\n",
    "leader_dir = \"csv/\"\n",
    "crowds_dir = \"csv/\"\n",
    "brp_dir = \"csv/\"\n",
    "\n",
    "consensus_dir = \"csv/\"\n",
    "csma_dir = \"csv/\"\n",
    "\n",
    "heur_iteration_val = [2]"
   ]
  },
  {
   "cell_type": "code",
   "execution_count": null,
   "metadata": {},
   "outputs": [],
   "source": [
    "plot_heur_val_comp(crowds_dir + \"crowds-2-8.csv\",to_pdf=True)"
   ]
  },
  {
   "cell_type": "code",
   "execution_count": null,
   "metadata": {},
   "outputs": [],
   "source": [
    "run(crowds_dir + \"crowds-5-8.csv\",heur_iteration_val,plot_exact=False,ymode=\"x1000\",to_pdf=True)"
   ]
  },
  {
   "cell_type": "code",
   "execution_count": null,
   "metadata": {},
   "outputs": [],
   "source": [
    "run(brp_dir + \"brp-512-2.csv\",heur_iteration_val,plot_exact=False,xmode=\"e\",ymode=\"x1000\",to_pdf=True)"
   ]
  },
  {
   "cell_type": "code",
   "execution_count": null,
   "metadata": {},
   "outputs": [],
   "source": [
    "run(consensus_dir + \"consensus-2-4.csv\",[2,3,4,5,6,7],plot_exact=True,prmin=False,to_pdf=True)"
   ]
  },
  {
   "cell_type": "code",
   "execution_count": null,
   "metadata": {},
   "outputs": [],
   "source": [
    "run(consensus_dir + \"consensus-2-4.csv\",heur_iteration_val,plot_exact=True,prmax=False,to_pdf=True)"
   ]
  },
  {
   "cell_type": "code",
   "execution_count": null,
   "metadata": {},
   "outputs": [],
   "source": [
    "run(csma_dir + \"csma-3-2.csv\",[2],plot_exact=True,prmin=False,ymode=\"x1000\",to_pdf=True)"
   ]
  },
  {
   "cell_type": "code",
   "execution_count": null,
   "metadata": {},
   "outputs": [],
   "source": [
    "run(csma_dir + \"csma-3-2.csv\",[2],plot_exact=True,prmax=False,ymode=\"x1000\",to_pdf=True)"
   ]
  }
 ],
 "metadata": {
  "kernelspec": {
   "display_name": "Python 3",
   "language": "python",
   "name": "python3"
  },
  "language_info": {
   "codemirror_mode": {
    "name": "ipython",
    "version": 3
   },
   "file_extension": ".py",
   "mimetype": "text/x-python",
   "name": "python",
   "nbconvert_exporter": "python",
   "pygments_lexer": "ipython3",
   "version": "3.7.4"
  }
 },
 "nbformat": 4,
 "nbformat_minor": 2
}
